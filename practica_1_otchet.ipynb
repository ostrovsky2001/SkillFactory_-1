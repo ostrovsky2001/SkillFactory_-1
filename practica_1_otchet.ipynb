{
 "cells": [
  {
   "cell_type": "code",
   "execution_count": 1,
   "metadata": {},
   "outputs": [
    {
     "name": "stdout",
     "output_type": "stream",
     "text": [
      "Рандомные вещественные числа: 9588.17 12.8 \n",
      "\n",
      "9600 9576 115056 799.0\n",
      "Для переменных a=9600 и b=9576: a<b - False; a==b - False; a!=b - True\n",
      "Для переменных a=9600 и c=115056: a<c - True; a==c - False; a!=c - True\n",
      "Для переменных a=9600 и f=799.0: a<f - False; a==f - False; a!=f - True\n",
      "Для переменных b=9576 и c=115056: b<c - True; b==c - False; b!=c - True\n",
      "Для переменных b=9576 и f=799.0: b<f - False; b==f - False; b!=f - True\n",
      "Для переменных c=115056 и f=799.0: c<f - False; c==f - False; c!=f - True\n",
      "\n",
      "\n",
      "9600.97 9575.37 122728.58 749.08\n",
      "Для переменных a=9600.97 и b=9575.37: a<b - False; a==b - False; a!=b - True\n",
      "Для переменных a=9600.97 и c=122728.58: a<c - True; a==c - False; a!=c - True\n",
      "Для переменных a=9600.97 и f=749.08: a<f - False; a==f - False; a!=f - True\n",
      "Для переменных b=9575.37 и c=122728.58: b<c - True; b==c - False; b!=c - True\n",
      "Для переменных b=9575.37 и f=749.08: b<f - False; b==f - False; b!=f - True\n",
      "Для переменных c=122728.58 и f=749.08: c<f - False; c==f - False; c!=f - True\n"
     ]
    }
   ],
   "source": [
    "import random # стандартная библиотека python для использования рандома\n",
    "import itertools # библиотека, которая перебирает варианты и прочее.\n",
    "\n",
    "\n",
    "def logical_oper(x1,x2,eval_x1,eval_x2):\n",
    "    \"\"\"Функция принимает на вход две строковые переменные - это будут названия переменных,\n",
    "    второые две переменные - это значения переменных. Затем сравнивает числа и выводит их \n",
    "    результат: True или False.\"\"\"\n",
    "    g = eval_x1 < eval_x2\n",
    "    f = eval_x1 == eval_x2\n",
    "    j = eval_x1 != eval_x2\n",
    "    s = 'Для переменных {x1}={eval_x1} и {x2}={eval_x2}: {x1}<{x2} - {g}; {x1}=={x2} - {f}; {x1}!={x2} - {j}'\n",
    "    print(s.format(x1=x1,eval_x1=eval_x1,x2=x2,eval_x2=eval_x2,g=g,f=f,j=j))\n",
    "\n",
    "def math_def(n,x):\n",
    "    \"\"\"Функция умножает, делит, складывает и вычитает два числа. Округляет результаты до 2-х\n",
    "    знаков после запятой, из-за ошибки в точности float переменных.\"\"\"\n",
    "    a = round(n + x,2)\n",
    "    b = round(n - x,2)\n",
    "    c = round(n * x,2)\n",
    "    f = round(n / x,2)\n",
    "    print(a, b, c, f)\n",
    "    \n",
    "    for combination in list(itertools.combinations('abcf', 2)):\n",
    "        \"\"\"Цикл перебирает все комбинации переменных(в str), чтобы сравнивать эти переменные в\n",
    "        функции logical_oper()\"\"\"\n",
    "        name_var1, name_var2 = combination[0], combination[1]\n",
    "        eval_var1, eval_var2 = eval(combination[0]), eval(combination[1])\n",
    "        \n",
    "        logical_oper(name_var1,name_var2,eval_var1,eval_var2)\n",
    "        # eval - встроенный функция в python, которая оценивает str значение и выводит значение переменной,\n",
    "        # у которой такое название. Пример: a = 5; eval('a')--> 5\n",
    "\n",
    "n = 9588\n",
    "x = 12\n",
    "\n",
    "# Создадим float переменные с помощью метода randint у объекта random.\n",
    "# К переменным n и x добавим рандомные вещественные части.\n",
    "float_n = float(str(n) + '.' + str(random.randint(1,20)))\n",
    "float_x = float(str(x) + '.' + str(random.randint(1,20)))\n",
    "\n",
    "print('Рандомные вещественные числа:',float_n,float_x,'\\n')\n",
    "math_def(n,x)\n",
    "print('\\n')\n",
    "math_def(float_n,float_x)"
   ]
  },
  {
   "cell_type": "code",
   "execution_count": null,
   "metadata": {},
   "outputs": [],
   "source": []
  }
 ],
 "metadata": {
  "kernelspec": {
   "display_name": "Python 3",
   "language": "python",
   "name": "python3"
  },
  "language_info": {
   "codemirror_mode": {
    "name": "ipython",
    "version": 3
   },
   "file_extension": ".py",
   "mimetype": "text/x-python",
   "name": "python",
   "nbconvert_exporter": "python",
   "pygments_lexer": "ipython3",
   "version": "3.8.3"
  }
 },
 "nbformat": 4,
 "nbformat_minor": 4
}
